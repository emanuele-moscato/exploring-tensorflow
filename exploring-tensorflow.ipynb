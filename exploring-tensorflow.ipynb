{
 "cells": [
  {
   "cell_type": "markdown",
   "metadata": {},
   "source": [
    "# Exploring Tensorflow"
   ]
  },
  {
   "cell_type": "code",
   "execution_count": null,
   "metadata": {},
   "outputs": [],
   "source": [
    "import tensorflow as tf"
   ]
  },
  {
   "cell_type": "markdown",
   "metadata": {},
   "source": [
    "## Eager execution"
   ]
  },
  {
   "cell_type": "markdown",
   "metadata": {},
   "source": [
    "Tensorflow now support [eager execution](https://www.tensorflow.org/tutorials/eager/eager_basics) (execution on-the-fly), which does not require the definition of a graph structure and placeholders and a compiling step anymore."
   ]
  },
  {
   "cell_type": "code",
   "execution_count": null,
   "metadata": {},
   "outputs": [],
   "source": [
    "tf.enable_eager_execution()"
   ]
  },
  {
   "cell_type": "markdown",
   "metadata": {},
   "source": [
    "## Fundamental Tensorflow objects"
   ]
  },
  {
   "cell_type": "markdown",
   "metadata": {},
   "source": [
    "There are 3 fundamental objects that Tensorflow provides:\n",
    "- Tensors (see [the documentation](https://www.tensorflow.org/api_docs/python/tf/Tensor) and [a guide](https://www.tensorflow.org/guide/tensors)),\n",
    "- Operations,\n",
    "- Session(s)."
   ]
  },
  {
   "cell_type": "markdown",
   "metadata": {},
   "source": [
    "## Tensors"
   ]
  },
  {
   "cell_type": "markdown",
   "metadata": {},
   "source": [
    "### Generalities"
   ]
  },
  {
   "cell_type": "markdown",
   "metadata": {},
   "source": [
    "Tensors are multidimensional arrays that work as inputs or outputs of operations. Tensorflow has fast routines to manipulate them.\n",
    "\n",
    "There are special types of tensors, such as `tf.Variable`, `tf.constant`, `tf.placeholder` and `tf.SparseTensor`.\n",
    "\n",
    "All tensors apart from `tf.Variable` are immutable (but their values may vary if they are the result of different runs of an operations, with different inputs).\n",
    "\n",
    "__Eager execution:__ the eager execution option has to be selected \"at program startup\" (right after the initial import statements). If it is not, the tensors will not actually have any value for their component, as without eager execution we need to be in the context of a Tensorflow session and evaluate the tensors explicitly."
   ]
  },
  {
   "cell_type": "code",
   "execution_count": null,
   "metadata": {},
   "outputs": [],
   "source": [
    "m1 = tf.constant([[1, 2], [3, 4]]) # A 2x2 matrix\n",
    "m2 = tf.constant([[1, 0], [0, 1]]) # The 2x2 identity matrix\n",
    "\n",
    "print(m1)\n",
    "print(m2)"
   ]
  },
  {
   "cell_type": "code",
   "execution_count": null,
   "metadata": {},
   "outputs": [],
   "source": [
    "# Tensors have a shape\n",
    "print(tf.constant([[12, 3], [12, 2]], dtype=tf.int32).shape)\n",
    "print(tf.constant([[2], [4], [6]]).shape)\n",
    "\n",
    "# In Tensorflow, the rank of a tensor is the number of\n",
    "# its dimensions (the number of indices)\n",
    "print(tf.rank(tf.Variable([[1, 2], [1, 3], [8, 9]])))"
   ]
  },
  {
   "cell_type": "code",
   "execution_count": null,
   "metadata": {},
   "outputs": [],
   "source": [
    "# Tensorflow implements matrix multiplication\n",
    "a = tf.constant([[2], [4], [5]])\n",
    "b = tf.constant([[1, 0, 0]])\n",
    "\n",
    "print(f\"a={a}\")\n",
    "print(f\"b={b}\")\n",
    "print(tf.matmul(a, b))\n",
    "print(f\"shape(a)={a.shape}\")\n",
    "print(f\"shape(b)={b.shape}\")\n",
    "print(f\"shape(a*b)={tf.matmul(a, b).shape}\")\n",
    "\n",
    "# Tensorflow can also return the shape of a tensor\n",
    "# as another tensor, which can be used at runtime,\n",
    "# even if the shapes change dynamically\n",
    "print(tf.shape(a))\n",
    "\n",
    "# Tensors' components can be accessed by the same\n",
    "# indexing as NumPy arrays\n",
    "print(a[0,0])\n",
    "\n",
    "# Addition and multiplication of tensors can also\n",
    "# happen with the + and * operators\n",
    "print(m1*m1)"
   ]
  },
  {
   "cell_type": "markdown",
   "metadata": {},
   "source": [
    "### Tensorflow Variables"
   ]
  },
  {
   "cell_type": "markdown",
   "metadata": {},
   "source": [
    "Variables (`tf.Variable`) are tensors whose value can be changed by operations performed on them and (if not in eager execution mode) it can exists outside of the context of a session.\n",
    "\n",
    "Variables can be initialized with `tf.get_variable()`, specifying a variable name and shape. The variable created this way has its value randomly initialized (with the `tf.glorot_uniform_initializer`)."
   ]
  },
  {
   "cell_type": "code",
   "execution_count": null,
   "metadata": {},
   "outputs": [],
   "source": [
    "variable_1 = tf.get_variable(\"first_variable\", (3, 2))\n",
    "\n",
    "print(variable_1)"
   ]
  }
 ],
 "metadata": {
  "kernelspec": {
   "display_name": "Python 3",
   "language": "python",
   "name": "python3"
  },
  "language_info": {
   "codemirror_mode": {
    "name": "ipython",
    "version": 3
   },
   "file_extension": ".py",
   "mimetype": "text/x-python",
   "name": "python",
   "nbconvert_exporter": "python",
   "pygments_lexer": "ipython3",
   "version": "3.6.6"
  }
 },
 "nbformat": 4,
 "nbformat_minor": 2
}
