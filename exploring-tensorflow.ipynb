{
 "cells": [
  {
   "cell_type": "markdown",
   "metadata": {},
   "source": [
    "# Exploring Tensorflow"
   ]
  },
  {
   "cell_type": "code",
   "execution_count": null,
   "metadata": {},
   "outputs": [],
   "source": [
    "import tensorflow as tf"
   ]
  },
  {
   "cell_type": "markdown",
   "metadata": {},
   "source": [
    "## Eager execution"
   ]
  },
  {
   "cell_type": "markdown",
   "metadata": {},
   "source": [
    "Tensorflow now support [eager execution](https://www.tensorflow.org/tutorials/eager/eager_basics) (execution on-the-fly), which does not require the definition of a graph structure and placeholders and a compiling step anymore."
   ]
  },
  {
   "cell_type": "code",
   "execution_count": null,
   "metadata": {},
   "outputs": [],
   "source": [
    "tf.enable_eager_execution()"
   ]
  },
  {
   "cell_type": "markdown",
   "metadata": {},
   "source": [
    "## Fundamental Tensorflow objects"
   ]
  },
  {
   "cell_type": "markdown",
   "metadata": {},
   "source": [
    "There are 3 fundamental objects that Tensorflow provides:\n",
    "- Tensors (see [the documentation](https://www.tensorflow.org/api_docs/python/tf/Tensor) and [a guide](https://www.tensorflow.org/guide/tensors)),\n",
    "- Operations,\n",
    "- Session(s)."
   ]
  },
  {
   "cell_type": "markdown",
   "metadata": {},
   "source": [
    "## Tensors"
   ]
  },
  {
   "cell_type": "markdown",
   "metadata": {},
   "source": [
    "Tensors are multidimensional arrays that work as inputs or outputs of operations. Tensorflow has fast routines to manipulate them.\n",
    "\n",
    "There are special types of tensors, such as `tf.Variable`, `tf.constant`, `tf.placeholder` and `tf.SparseTensor`.\n",
    "\n",
    "All tensors apart from `tf.Variable` are immutable (but their values may vary if they are the result of different runs of an operations, with different inputs)."
   ]
  },
  {
   "cell_type": "code",
   "execution_count": null,
   "metadata": {},
   "outputs": [],
   "source": [
    "m1 = tf.constant([[1, 2], [3, 4]]) # A 2x2 matrix\n",
    "m2 = tf.constant([[1, 0], [0, 1]]) # The 2x2 identity matrix\n",
    "\n",
    "print(m1)\n",
    "print(m2)\n",
    "\n",
    "#Multiply the two matrices\n",
    "print(tf.matmul(m1, m2))"
   ]
  },
  {
   "cell_type": "code",
   "execution_count": null,
   "metadata": {},
   "outputs": [],
   "source": [
    "tf.Variable([[12, 3], [12, 2]], dtype=tf.int32).shape"
   ]
  },
  {
   "cell_type": "code",
   "execution_count": null,
   "metadata": {},
   "outputs": [],
   "source": [
    "tf.Tensor([3], shape=(1,), dtype=tf.int32)"
   ]
  },
  {
   "cell_type": "code",
   "execution_count": null,
   "metadata": {},
   "outputs": [],
   "source": [
    "# The shape of the tensors is inferred\n",
    "print(tf.add(3, 56))\n",
    "print(tf.add([3], [56]))\n",
    "print(tf.add([[3]], [[56]]))\n",
    "\n",
    "# Tensors can be recast to the correct shape if a\n",
    "# legit operation is executed on them (typically\n",
    "# to the higher0-dimensional shape)\n",
    "print(tf.add([4], [[[20]]]))"
   ]
  },
  {
   "cell_type": "code",
   "execution_count": null,
   "metadata": {},
   "outputs": [],
   "source": []
  }
 ],
 "metadata": {
  "kernelspec": {
   "display_name": "Python 3",
   "language": "python",
   "name": "python3"
  },
  "language_info": {
   "codemirror_mode": {
    "name": "ipython",
    "version": 3
   },
   "file_extension": ".py",
   "mimetype": "text/x-python",
   "name": "python",
   "nbconvert_exporter": "python",
   "pygments_lexer": "ipython3",
   "version": "3.6.6"
  }
 },
 "nbformat": 4,
 "nbformat_minor": 2
}
