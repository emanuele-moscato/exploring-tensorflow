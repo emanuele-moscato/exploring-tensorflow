{
 "cells": [
  {
   "cell_type": "markdown",
   "metadata": {},
   "source": [
    "# Using TensoFlow low level API"
   ]
  },
  {
   "cell_type": "markdown",
   "metadata": {},
   "source": [
    "## Resources\n",
    "\n",
    "- https://www.tensorflow.org/guide/low_level_intro\n",
    "- https://medium.com/ymedialabs-innovation/how-to-use-dataset-and-iterators-in-tensorflow-with-code-samples-3bb98b6b74ab\n",
    "- https://www.tensorflow.org/guide/datasets\n",
    "- https://www.tensorflow.org/guide/graphs"
   ]
  },
  {
   "cell_type": "code",
   "execution_count": 1,
   "metadata": {},
   "outputs": [],
   "source": [
    "import tensorflow as tf\n",
    "from pprint import pprint"
   ]
  },
  {
   "cell_type": "markdown",
   "metadata": {},
   "source": [
    "TensorFlow has two main components:\n",
    "- Graphs (`tf.Graph`): the computational graph to be run.\n",
    "- Sessions (`tf.Session`): the runtime that runs the graph."
   ]
  },
  {
   "cell_type": "markdown",
   "metadata": {},
   "source": [
    "## Graphs"
   ]
  },
  {
   "cell_type": "markdown",
   "metadata": {},
   "source": [
    "Graphs comprise two main units:\n",
    "- Operations (`tf.Operation`) (\"ops\"): the nodes of the graph, representing calculations on tensors.\n",
    "- Tensors (`tf.Tensor`): the edges of the graph, representing the values that flow through the graph.\n",
    "\n",
    "Operations are really blueprints for functions that get run at runtime (in a session): tensors are not inputs, but rather passed to the op's constructor. The oputput is then produced at runtime.\n",
    "\n",
    "Tensors are blueprints as well: they don't hold values outside a session.\n",
    "\n",
    "If we print a tensor or an operation we get information on the kind of objects that they represent in the graph."
   ]
  },
  {
   "cell_type": "markdown",
   "metadata": {},
   "source": [
    "### TensorBoard"
   ]
  },
  {
   "cell_type": "markdown",
   "metadata": {},
   "source": [
    "Graphs can be visualised in TensorBoard (navigate to the directory where the event file is saved and run `tensorboard --logdir .`). Notice that every time a cell defining a graph is run a new graph is added to the default graphs (`tf.get_default_graph`) (which is also reflected in the change of the names of the tensors and ops). TensorBoard is served as a web app on `localhost:6006`.\n",
    "\n",
    "To reset the default graph: `tf.reset_default_graph()`."
   ]
  },
  {
   "cell_type": "code",
   "execution_count": 2,
   "metadata": {},
   "outputs": [
    {
     "name": "stdout",
     "output_type": "stream",
     "text": [
      "Tensor(\"Const:0\", shape=(2, 2), dtype=float32)\n",
      "Tensor(\"Const_1:0\", shape=(2, 2), dtype=float32)\n",
      "Tensor(\"Add:0\", shape=(2, 2), dtype=float32)\n",
      "Tensor(\"MatMul:0\", shape=(2, 2), dtype=float32)\n",
      "\n",
      "Operations in the default graph:\n",
      "[<tf.Operation 'Const' type=Const>,\n",
      " <tf.Operation 'Const_1' type=Const>,\n",
      " <tf.Operation 'Add' type=Add>,\n",
      " <tf.Operation 'Const_2' type=Const>,\n",
      " <tf.Operation 'MatMul' type=MatMul>]\n"
     ]
    }
   ],
   "source": [
    "# Cleans the default graph of all the operations associated\n",
    "# to it.\n",
    "tf.reset_default_graph()\n",
    "\n",
    "# Ops\n",
    "# Tensors\n",
    "t1 = tf.constant([[1., 2.], [4., 4.]])\n",
    "t2 = tf.constant([[2., 2.], [2., 2.]])\n",
    "\n",
    "# Adds the tensor together\n",
    "tensor_sum = tf.add(t1, t2)\n",
    "tensor_mult = tf.matmul(tensor_sum, tf.constant([[3., 0.], [0., 3.]]))\n",
    "\n",
    "# Write to TensorBoard: creates an events file in the current\n",
    "# directory.\n",
    "writer = tf.summary.FileWriter('.')\n",
    "writer.add_graph(tf.get_default_graph())\n",
    "writer.flush()\n",
    "\n",
    "print(t1)\n",
    "print(t2)\n",
    "print(tensor_sum)\n",
    "print(tensor_mult)\n",
    "\n",
    "print(\"\\nOperations in the default graph:\")\n",
    "pprint(tf.get_default_graph().get_operations())"
   ]
  },
  {
   "cell_type": "markdown",
   "metadata": {},
   "source": [
    "## Sessions"
   ]
  },
  {
   "cell_type": "markdown",
   "metadata": {},
   "source": [
    "Sessions can run operations to produce tensors. Unless otherwise specified when it's instantiated, a session is associated to the default graph."
   ]
  },
  {
   "cell_type": "code",
   "execution_count": 3,
   "metadata": {},
   "outputs": [
    {
     "name": "stdout",
     "output_type": "stream",
     "text": [
      "Value of t1:\n",
      "[[1. 2.]\n",
      " [4. 4.]]\n",
      "Value of t2:\n",
      "[[2. 2.]\n",
      " [2. 2.]] \n",
      "\n",
      "Output of tensor_sum:\n",
      "[[3. 4.]\n",
      " [6. 6.]]\n",
      "Output of tensor_mult:\n",
      "[[ 9. 12.]\n",
      " [18. 18.]] \n",
      "\n",
      "Multiple evaluations:\n",
      "{'tensor_sum': array([[3., 4.],\n",
      "       [6., 6.]], dtype=float32), 'tensor_mult': array([[ 9., 12.],\n",
      "       [18., 18.]], dtype=float32)}\n"
     ]
    }
   ],
   "source": [
    "sess = tf.Session()\n",
    "\n",
    "# Evaluate tensors\n",
    "print(\"Value of t1:\")\n",
    "print(sess.run(t1))\n",
    "print(\"Value of t2:\")\n",
    "print(sess.run(t2), \"\\n\")\n",
    "\n",
    "# Run operations\n",
    "print(\"Output of tensor_sum:\")\n",
    "print(sess.run(tensor_sum))\n",
    "print(\"Output of tensor_mult:\")\n",
    "print(sess.run(tensor_mult), \"\\n\")\n",
    "\n",
    "# Evaluate more than one tensor/operations\n",
    "# with a single call to Session.run()\n",
    "print(\"Multiple evaluations:\")\n",
    "print(sess.run({\n",
    "    'tensor_sum': tensor_sum,\n",
    "    'tensor_mult': tensor_mult\n",
    "}))"
   ]
  },
  {
   "cell_type": "markdown",
   "metadata": {},
   "source": [
    "Operations can also be evaluated with their `eval()` method by passing a session to its `session` keyword argument."
   ]
  },
  {
   "cell_type": "code",
   "execution_count": 4,
   "metadata": {},
   "outputs": [
    {
     "name": "stdout",
     "output_type": "stream",
     "text": [
      "Value of t1:\n",
      "[[1. 2.]\n",
      " [4. 4.]] \n",
      "\n",
      "Output of tensor_mult:\n",
      "[[ 9. 12.]\n",
      " [18. 18.]]\n"
     ]
    }
   ],
   "source": [
    "print(\"Value of t1:\")\n",
    "print(t1.eval(session=sess), \"\\n\")\n",
    "\n",
    "print(\"Output of tensor_mult:\")\n",
    "print(tensor_mult.eval(session=sess))"
   ]
  },
  {
   "cell_type": "markdown",
   "metadata": {},
   "source": [
    "Finally, we can define session object using a context."
   ]
  },
  {
   "cell_type": "code",
   "execution_count": 5,
   "metadata": {},
   "outputs": [
    {
     "name": "stdout",
     "output_type": "stream",
     "text": [
      "Value of t1:\n",
      "[[1. 2.]\n",
      " [4. 4.]] \n",
      "\n",
      "Output of tensor_mult:\n",
      "[[ 9. 12.]\n",
      " [18. 18.]]\n"
     ]
    }
   ],
   "source": [
    "with tf.Session() as temp_sess:\n",
    "    print(\"Value of t1:\")\n",
    "    print(t1.eval(session=temp_sess), \"\\n\")\n",
    "    \n",
    "    print(\"Output of tensor_mult:\")\n",
    "    print(temp_sess.run(tensor_mult))"
   ]
  },
  {
   "cell_type": "markdown",
   "metadata": {},
   "source": [
    "A within a single call to `tf.Session.run()` a tensor has a single value. This doesn't happen across multiple calls of `run()` and can be seen e.g. when generating random tensors: within the same run the generated value is consistent, while it changes between different runs."
   ]
  },
  {
   "cell_type": "code",
   "execution_count": 6,
   "metadata": {},
   "outputs": [
    {
     "name": "stdout",
     "output_type": "stream",
     "text": [
      "First call to .run():  [0.32275498 0.54546475]\n",
      "Second call to .run():  [0.08892083 0.85178363]\n",
      "Calling run on two operations with random_tensor as the input:\n",
      "{'plus_one': array([1.0299999, 1.2709372], dtype=float32), 'plus_two': array([2.0299997, 2.2709372], dtype=float32)}\n"
     ]
    }
   ],
   "source": [
    "random_tensor = tf.random_uniform(shape=(2,))\n",
    "\n",
    "random_plus_one = random_tensor + 1.\n",
    "random_plus_two = random_tensor + 2.\n",
    "\n",
    "print(\"First call to .run(): \", sess.run(random_tensor))\n",
    "print(\"Second call to .run(): \", sess.run(random_tensor))\n",
    "\n",
    "# In the following, the two new tensors read the same value for\n",
    "# the input tensor.\n",
    "print(\n",
    "    \"Calling run on two operations with random_tensor as the input:\")\n",
    "print(sess.run(\n",
    "        {\n",
    "            \"plus_one\": random_plus_one,\n",
    "            \"plus_two\": random_plus_two\n",
    "        }\n",
    "    )\n",
    ")"
   ]
  },
  {
   "cell_type": "markdown",
   "metadata": {},
   "source": [
    "## Placeholders"
   ]
  },
  {
   "cell_type": "markdown",
   "metadata": {},
   "source": [
    "Operations can be passed external input values, which are indicated by `placeholder`s at the moment of graph creation. When we have a session execute the graph, we need to give values to the placeholders, which we do via the `feed_dict` keyword argument of the `Session.run()` method."
   ]
  },
  {
   "cell_type": "code",
   "execution_count": 7,
   "metadata": {},
   "outputs": [
    {
     "data": {
      "text/plain": [
       "<tf.Tensor 'MatMul:0' shape=(2, 2) dtype=float32>"
      ]
     },
     "execution_count": 7,
     "metadata": {},
     "output_type": "execute_result"
    }
   ],
   "source": [
    "tf.reset_default_graph()\n",
    "\n",
    "t1 = tf.placeholder(shape=(2, 2), dtype=tf.float32)\n",
    "t2 = tf.placeholder(shape=(2, 2), dtype=tf.float32)\n",
    "\n",
    "matmul_t1_t2 = tf.matmul(t1, t2)\n",
    "\n",
    "matmul_t1_t2"
   ]
  },
  {
   "cell_type": "markdown",
   "metadata": {},
   "source": [
    "The session `sess` was associated to a previous version of the default graph, which we erased with the above call to `tf.reset_default_graph()`, therefore if we want to use a session with the same name it has to be re-instantiated so it is associated with the current version of the graph.\n",
    "\n",
    "As an alternative, we can re-create it using a context."
   ]
  },
  {
   "cell_type": "code",
   "execution_count": 8,
   "metadata": {},
   "outputs": [
    {
     "data": {
      "text/plain": [
       "array([[1., 2.],\n",
       "       [6., 8.]], dtype=float32)"
      ]
     },
     "execution_count": 8,
     "metadata": {},
     "output_type": "execute_result"
    }
   ],
   "source": [
    "sess = tf.Session()\n",
    "\n",
    "sess.run(\n",
    "    matmul_t1_t2,\n",
    "    feed_dict={\n",
    "        t1: [[1, 0], [0, 2]],\n",
    "        t2: [[1, 2], [3, 4]]\n",
    "    }\n",
    ")"
   ]
  },
  {
   "cell_type": "markdown",
   "metadata": {},
   "source": [
    "We don't need to specify a tensor's shape in the placeholder: dimensions can be inferred from what is passed to `feed_dict` (and errors will be thrown is there are inconsistencies)."
   ]
  },
  {
   "cell_type": "code",
   "execution_count": 9,
   "metadata": {},
   "outputs": [
    {
     "name": "stdout",
     "output_type": "stream",
     "text": [
      "[[1. 2. 3.]\n",
      " [1. 1. 1.]\n",
      " [5. 7. 5.]]\n"
     ]
    }
   ],
   "source": [
    "tf.reset_default_graph()\n",
    "\n",
    "t1 = tf.placeholder(dtype=tf.float32)\n",
    "t2 = tf.placeholder(dtype=tf.float32)\n",
    "\n",
    "matmul_t1_t2 = tf.matmul(t1, t2)\n",
    "\n",
    "with tf.Session() as sess:\n",
    "    print(sess.run(\n",
    "        matmul_t1_t2,\n",
    "        feed_dict = {\n",
    "            t1: [[1, 2, 3], [1, 1, 1], [5, 7, 5]],\n",
    "            t2: [[1, 0, 0], [0, 1, 0], [0, 0, 1]]\n",
    "        }\n",
    "    ))"
   ]
  },
  {
   "cell_type": "markdown",
   "metadata": {},
   "source": [
    "## Datasets"
   ]
  },
  {
   "cell_type": "markdown",
   "metadata": {},
   "source": [
    "`tf.data` allows for inputting data into a graph in a more standardised and automated way than a placeholder. Given a dataset, we can create an iterator and use it to retrieve each datapoint, giving a value to a tensor. At every call to `Session.run()`, the iterator will return the next datapoint and when no more datapoints are present it raises a `tf.errors.OutOfRangeError` exception."
   ]
  },
  {
   "cell_type": "code",
   "execution_count": 5,
   "metadata": {},
   "outputs": [
    {
     "name": "stdout",
     "output_type": "stream",
     "text": [
      "[0 1]\n",
      "[2 4]\n",
      "[9 4]\n",
      "[5 8]\n"
     ]
    }
   ],
   "source": [
    "tf.reset_default_graph()\n",
    "sess = tf.Session()\n",
    "\n",
    "data = [\n",
    "    [0, 1],\n",
    "    [2, 4],\n",
    "    [9, 4],\n",
    "    [5, 8]\n",
    "]\n",
    "\n",
    "dataset = tf.data.Dataset.from_tensor_slices(data)\n",
    "iterator = dataset.make_one_shot_iterator() # This will give a deprecation warning.\n",
    "next_element = iterator.get_next()\n",
    "\n",
    "while True:\n",
    "    try:\n",
    "        print(sess.run(next_element))\n",
    "    except tf.errors.OutOfRangeError:\n",
    "        break"
   ]
  },
  {
   "cell_type": "code",
   "execution_count": 6,
   "metadata": {},
   "outputs": [
    {
     "name": "stdout",
     "output_type": "stream",
     "text": [
      "[0 1]\n",
      "[2 4]\n",
      "[9 4]\n",
      "[5 8]\n"
     ]
    }
   ],
   "source": [
    "tf.reset_default_graph()\n",
    "sess = tf.Session()\n",
    "\n",
    "data = [\n",
    "    [0, 1],\n",
    "    [2, 4],\n",
    "    [9, 4],\n",
    "    [5, 8]\n",
    "]\n",
    "\n",
    "dataset = tf.data.Dataset.from_tensor_slices(data)\n",
    "iterator = tf.compat.v1.data.make_one_shot_iterator(dataset)\n",
    "next_element = iterator.get_next()\n",
    "\n",
    "while True:\n",
    "    try:\n",
    "        print(sess.run(next_element))\n",
    "    except tf.errors.OutOfRangeError:\n",
    "        break"
   ]
  },
  {
   "cell_type": "markdown",
   "metadata": {},
   "source": [
    "## Building layers"
   ]
  },
  {
   "cell_type": "markdown",
   "metadata": {},
   "source": [
    "Let's create a simple linear model using a fully connected layer."
   ]
  },
  {
   "cell_type": "code",
   "execution_count": 37,
   "metadata": {},
   "outputs": [],
   "source": [
    "tf.reset_default_graph()"
   ]
  },
  {
   "cell_type": "code",
   "execution_count": 38,
   "metadata": {},
   "outputs": [],
   "source": [
    "sess_model = tf.Session()"
   ]
  },
  {
   "cell_type": "markdown",
   "metadata": {},
   "source": [
    "Generate data."
   ]
  },
  {
   "cell_type": "code",
   "execution_count": 39,
   "metadata": {},
   "outputs": [
    {
     "data": {
      "text/plain": [
       "array([[0.18897486],\n",
       "       [0.15182555],\n",
       "       [0.75612843],\n",
       "       [0.5720967 ],\n",
       "       [0.43041754],\n",
       "       [0.49657822],\n",
       "       [0.24570096],\n",
       "       [0.55756056],\n",
       "       [0.9580214 ],\n",
       "       [0.46783197]], dtype=float32)"
      ]
     },
     "execution_count": 39,
     "metadata": {},
     "output_type": "execute_result"
    }
   ],
   "source": [
    "data = tf.random_uniform(shape=[50, 1], dtype=tf.float32)\n",
    "\n",
    "data_eval = sess_model.run(data)\n",
    "\n",
    "data_eval[:10]"
   ]
  },
  {
   "cell_type": "markdown",
   "metadata": {},
   "source": [
    "Create a model, a single-layer fully-connected neural network."
   ]
  },
  {
   "cell_type": "code",
   "execution_count": 40,
   "metadata": {},
   "outputs": [],
   "source": [
    "x = tf.placeholder(tf.float32, shape=[None,1])\n",
    "\n",
    "model = tf.layers.Dense(units=1, dtype=tf.float32)\n",
    "\n",
    "y = model(x)"
   ]
  },
  {
   "cell_type": "markdown",
   "metadata": {},
   "source": [
    "The Dense layer contains weights that must be initialised to random values. To do so, instantiate and run a global variable initializer."
   ]
  },
  {
   "cell_type": "code",
   "execution_count": 51,
   "metadata": {},
   "outputs": [],
   "source": [
    "init = tf.global_variables_initializer()\n",
    "\n",
    "sess_model.run(init)"
   ]
  },
  {
   "cell_type": "markdown",
   "metadata": {},
   "source": [
    "Evaluate the model with randomly initialised weights on the whole dataset."
   ]
  },
  {
   "cell_type": "code",
   "execution_count": 52,
   "metadata": {},
   "outputs": [
    {
     "data": {
      "text/plain": [
       "array([[0.04625671],\n",
       "       [0.03716341],\n",
       "       [0.18508291],\n",
       "       [0.14003617],\n",
       "       [0.10535635],\n",
       "       [0.12155097],\n",
       "       [0.06014196],\n",
       "       [0.13647805],\n",
       "       [0.23450169],\n",
       "       [0.11451454],\n",
       "       [0.24171309],\n",
       "       [0.16552752],\n",
       "       [0.01935052],\n",
       "       [0.2287936 ],\n",
       "       [0.24144986],\n",
       "       [0.12410813],\n",
       "       [0.23869364],\n",
       "       [0.2079743 ],\n",
       "       [0.0524101 ],\n",
       "       [0.03536046],\n",
       "       [0.02092561],\n",
       "       [0.12367263],\n",
       "       [0.0319729 ],\n",
       "       [0.0755981 ],\n",
       "       [0.24131234],\n",
       "       [0.1751338 ],\n",
       "       [0.14065267],\n",
       "       [0.225483  ],\n",
       "       [0.23638101],\n",
       "       [0.12443634],\n",
       "       [0.00733379],\n",
       "       [0.06231842],\n",
       "       [0.18902552],\n",
       "       [0.04404125],\n",
       "       [0.1812489 ],\n",
       "       [0.09022603],\n",
       "       [0.11428128],\n",
       "       [0.03689266],\n",
       "       [0.00172341],\n",
       "       [0.1406048 ],\n",
       "       [0.09875742],\n",
       "       [0.06419674],\n",
       "       [0.14924522],\n",
       "       [0.20968202],\n",
       "       [0.1521935 ],\n",
       "       [0.13257574],\n",
       "       [0.2117897 ],\n",
       "       [0.03685101],\n",
       "       [0.03901685],\n",
       "       [0.00281129]], dtype=float32)"
      ]
     },
     "execution_count": 52,
     "metadata": {},
     "output_type": "execute_result"
    }
   ],
   "source": [
    "sess_model.run(\n",
    "    y,\n",
    "    feed_dict={x: data_eval}\n",
    ")"
   ]
  }
 ],
 "metadata": {
  "kernelspec": {
   "display_name": "Python 3",
   "language": "python",
   "name": "python3"
  },
  "language_info": {
   "codemirror_mode": {
    "name": "ipython",
    "version": 3
   },
   "file_extension": ".py",
   "mimetype": "text/x-python",
   "name": "python",
   "nbconvert_exporter": "python",
   "pygments_lexer": "ipython3",
   "version": "3.7.1"
  }
 },
 "nbformat": 4,
 "nbformat_minor": 2
}
