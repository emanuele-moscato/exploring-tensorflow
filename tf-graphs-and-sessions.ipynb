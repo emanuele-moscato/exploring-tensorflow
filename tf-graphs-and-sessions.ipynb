{
 "cells": [
  {
   "cell_type": "markdown",
   "metadata": {},
   "source": [
    "# Graphs and sessions in TensorFlow"
   ]
  },
  {
   "cell_type": "markdown",
   "metadata": {},
   "source": [
    "Source: https://www.tensorflow.org/guide/graphs\n",
    "\n",
    "In Teonsorflow, a graph is the representation of operations, while a session is an executor for a graph. Before being executed by a session, a graph is only a blueprint of the operations, which in turn return no value until they are executed."
   ]
  },
  {
   "cell_type": "code",
   "execution_count": 1,
   "metadata": {},
   "outputs": [],
   "source": [
    "import tensorflow as tf\n",
    "from pprint import pprint"
   ]
  },
  {
   "cell_type": "markdown",
   "metadata": {},
   "source": [
    "Defining a constant operation (a constant). This get added to the Tensorflow default graph unless otherwise specified.\n",
    "\n",
    "Resetting the default graph ensures that if we run cells multiple times, operations are not added more than once."
   ]
  },
  {
   "cell_type": "code",
   "execution_count": 25,
   "metadata": {},
   "outputs": [
    {
     "name": "stdout",
     "output_type": "stream",
     "text": [
      "Operations currently in the default graph:\n",
      "[<tf.Operation 'c' type=Const>]\n",
      "\n",
      "Value of operation c_0 without execution:\n",
      "Tensor(\"c:0\", shape=(), dtype=float32)\n"
     ]
    }
   ],
   "source": [
    "tf.reset_default_graph()\n",
    "\n",
    "c_0 = tf.constant(43., name='c')\n",
    "\n",
    "print(\"Operations currently in the default graph:\")\n",
    "print(tf.get_default_graph().get_operations())\n",
    "\n",
    "print(\"\\nValue of operation c_0 without execution:\")\n",
    "print(c_0)"
   ]
  },
  {
   "cell_type": "markdown",
   "metadata": {},
   "source": [
    "Operations can be defined within a particular name scope to add clarity to their names. Again, these are added to the default graph."
   ]
  },
  {
   "cell_type": "code",
   "execution_count": 26,
   "metadata": {},
   "outputs": [
    {
     "name": "stdout",
     "output_type": "stream",
     "text": [
      "Operations currently in the default graph:\n",
      "[<tf.Operation 'test_scope/t1' type=Const>,\n",
      " <tf.Operation 'test_scope/t2' type=Const>]\n"
     ]
    }
   ],
   "source": [
    "tf.reset_default_graph()\n",
    "\n",
    "with tf.name_scope(\"test_scope\"):\n",
    "    t1 = tf.constant(1., name=\"t1\")\n",
    "    t2 = tf.constant(2., name=\"t2\")\n",
    "\n",
    "print(\"Operations currently in the default graph:\")\n",
    "pprint(tf.get_default_graph().get_operations())"
   ]
  },
  {
   "cell_type": "markdown",
   "metadata": {},
   "source": [
    "To get the values of operations, a session is needed. A session is a connection between Python and the underlying C++ runtime Tensorflow uses to execute operations in graphs. A session \"owns physical resources\": when one is defined, it can be indicated which device should execute the code (CPU, GPU, ...) in its options.\n",
    "\n",
    "If not otherwise specified in its options, a session executes operations in the default graph."
   ]
  },
  {
   "cell_type": "code",
   "execution_count": 31,
   "metadata": {},
   "outputs": [
    {
     "name": "stdout",
     "output_type": "stream",
     "text": [
      "Tensor returned by operation xtimesy:\n",
      "[[ 1.  1.]\n",
      " [-1. -1.]]\n",
      "\n",
      "Tensor returned by operation z:\n",
      "[[0.5 0.5]\n",
      " [0.5 0.5]]\n"
     ]
    }
   ],
   "source": [
    "tf.reset_default_graph()\n",
    "\n",
    "x = tf.constant([[1., 0.], [0., -1.]])\n",
    "y = tf.constant([[1., 1.], [1., 1.]])\n",
    "xtimesy = tf.matmul(x, y)\n",
    "z = tf.nn.softmax(xtimesy)\n",
    "\n",
    "sess = tf.Session()\n",
    "\n",
    "print(\"Tensor returned by operation xtimesy:\")\n",
    "print(sess.run(xtimesy))\n",
    "\n",
    "print(\"\\nTensor returned by operation z:\")\n",
    "print(sess.run(z))"
   ]
  },
  {
   "cell_type": "markdown",
   "metadata": {},
   "source": [
    "Sessions can also be defined in contexts."
   ]
  },
  {
   "cell_type": "code",
   "execution_count": 37,
   "metadata": {},
   "outputs": [
    {
     "name": "stdout",
     "output_type": "stream",
     "text": [
      "[[1 1 1]]\n"
     ]
    }
   ],
   "source": [
    "tf.reset_default_graph()\n",
    "\n",
    "m = tf.constant([1, 1, 1], shape=[1, 3])\n",
    "\n",
    "with tf.Session() as sess_c:\n",
    "    print(sess_c.run(m))"
   ]
  },
  {
   "cell_type": "markdown",
   "metadata": {},
   "source": [
    "Tensors can be passed values dynamically using placeholders."
   ]
  },
  {
   "cell_type": "code",
   "execution_count": 38,
   "metadata": {},
   "outputs": [
    {
     "name": "stdout",
     "output_type": "stream",
     "text": [
      "[[ 2.]\n",
      " [ 1.]\n",
      " [14.]]\n"
     ]
    }
   ],
   "source": [
    "tf.reset_default_graph()\n",
    "\n",
    "dummy = tf.placeholder(dtype=tf.float32, shape=[3, 3])\n",
    "\n",
    "v = tf.constant([2., 1., 14.], shape=[3, 1])\n",
    "\n",
    "dv = tf.matmul(dummy, v)\n",
    "\n",
    "with tf.Session() as sess:\n",
    "    print(sess.run(\n",
    "        dv,\n",
    "        {dummy: [[1., 0., 0.], [0., 1., 0.], [0., 0., 1.]]}\n",
    "    ))"
   ]
  },
  {
   "cell_type": "markdown",
   "metadata": {},
   "source": [
    "We can explicitly define multiple graphs and assign operations to them."
   ]
  },
  {
   "cell_type": "code",
   "execution_count": 42,
   "metadata": {},
   "outputs": [
    {
     "name": "stdout",
     "output_type": "stream",
     "text": [
      "While using g_1 as default graph, list the operations:\n",
      "[<tf.Operation 't1_in_g1' type=Const>]\n",
      "\n",
      "While using g_2 as default graph, list the operations:\n",
      "[<tf.Operation 't2_in_g2' type=Const>]\n",
      "\n",
      "Without any context defining a particular graph as default, list operations in the original default graph:\n",
      "[<tf.Operation 'Placeholder' type=Placeholder>,\n",
      " <tf.Operation 'Const' type=Const>,\n",
      " <tf.Operation 'MatMul' type=MatMul>]\n"
     ]
    }
   ],
   "source": [
    "g_1 = tf.Graph()\n",
    "\n",
    "with g_1.as_default():\n",
    "    t1 = tf.constant([1, 2, 3], shape=[3, 1], name=\"t1_in_g1\")\n",
    "    \n",
    "    print(\"While using g_1 as default graph, list the operations:\")\n",
    "    print(tf.get_default_graph().get_operations())\n",
    "    \n",
    "g_2 = tf.Graph()\n",
    "\n",
    "with g_2.as_default():\n",
    "    t2 = tf.constant([1, 1], shape=[1, 2], name=\"t2_in_g2\")\n",
    "    \n",
    "    print(\"\\nWhile using g_2 as default graph, list the operations:\")\n",
    "    print(tf.get_default_graph().get_operations())\n",
    "\n",
    "print(\n",
    "    \"\\nWithout any context defining a particular graph as default, \"\n",
    "    \"list operations in the original default graph:\"\n",
    ")\n",
    "pprint(tf.get_default_graph().get_operations())"
   ]
  },
  {
   "cell_type": "markdown",
   "metadata": {},
   "source": [
    "Different sessions running different graphs can be defined explicitly."
   ]
  },
  {
   "cell_type": "code",
   "execution_count": 43,
   "metadata": {},
   "outputs": [
    {
     "name": "stdout",
     "output_type": "stream",
     "text": [
      "Session sess_1 can run operations within graph g_1:\n",
      "t1_in_g1:0 :\n",
      "[[1]\n",
      " [2]\n",
      " [3]]\n",
      "\n",
      "...but not operations within another graph: tensor t2 is not an operation within graph g_1\n",
      "\n",
      "Session sess_2 can run operations within graph g_2:\n",
      "t2_in_g2:0 :\n",
      "[[1 1]]\n"
     ]
    }
   ],
   "source": [
    "sess_1 = tf.Session(graph=g_1)\n",
    "\n",
    "print(\"Session sess_1 can run operations within graph g_1:\")\n",
    "print(t1.name, \":\")\n",
    "print(sess_1.run(t1))\n",
    "\n",
    "print(\"\\n...but not operations within another graph: \", end=\"\")\n",
    "\n",
    "try:\n",
    "    sess_1.run(t2)\n",
    "except ValueError:\n",
    "    \n",
    "    print(\"tensor t2 is not an operation within graph g_1\")\n",
    "    \n",
    "sess_2 = tf.Session(graph=g_2)\n",
    "\n",
    "print(\"\\nSession sess_2 can run operations within graph g_2:\")\n",
    "print(t2.name, \":\")\n",
    "print(sess_2.run(t2))"
   ]
  },
  {
   "cell_type": "code",
   "execution_count": 161,
   "metadata": {},
   "outputs": [
    {
     "name": "stdout",
     "output_type": "stream",
     "text": [
      "Random 3x3 tensor:\n",
      "[[0.46885467 0.19841158 0.4124316 ]\n",
      " [0.39023232 0.27491236 0.06212771]\n",
      " [0.6543205  0.6714376  0.95432174]]\n",
      "\n",
      "Its trace:\n",
      "1.6980888\n",
      "\n",
      "Its determinant:\n",
      "0.071499325\n"
     ]
    }
   ],
   "source": [
    "tf.reset_default_graph()\n",
    "\n",
    "t_rand = tf.random.uniform(shape=[3, 3], dtype=tf.float32, name=\"random_3by3\")\n",
    "t_rand_trace = tf.linalg.trace(t_rand)\n",
    "t_rand_det = tf.linalg.det(t_rand)\n",
    "\n",
    "with tf.Session() as sess:\n",
    "    t_rand_eval, trace_eval, det_eval = sess.run((\n",
    "        t_rand,\n",
    "        t_rand_trace,\n",
    "        t_rand_det\n",
    "    ))\n",
    "    \n",
    "print(\"Random 3x3 tensor:\")\n",
    "print(t_rand_eval)\n",
    "\n",
    "print(\"\\nIts trace:\")\n",
    "print(trace_eval)\n",
    "\n",
    "print(\"\\nIts determinant:\")\n",
    "print(det_eval)"
   ]
  }
 ],
 "metadata": {
  "kernelspec": {
   "display_name": "Python 3",
   "language": "python",
   "name": "python3"
  },
  "language_info": {
   "codemirror_mode": {
    "name": "ipython",
    "version": 3
   },
   "file_extension": ".py",
   "mimetype": "text/x-python",
   "name": "python",
   "nbconvert_exporter": "python",
   "pygments_lexer": "ipython3",
   "version": "3.7.1"
  }
 },
 "nbformat": 4,
 "nbformat_minor": 2
}
